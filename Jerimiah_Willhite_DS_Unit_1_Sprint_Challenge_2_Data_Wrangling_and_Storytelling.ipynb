{
  "nbformat": 4,
  "nbformat_minor": 0,
  "metadata": {
    "colab": {
      "name": "Jerimiah Willhite - DS_Unit_1_Sprint_Challenge_2_Data_Wrangling_and_Storytelling.ipynb",
      "version": "0.3.2",
      "provenance": [],
      "collapsed_sections": [],
      "include_colab_link": true
    },
    "language_info": {
      "codemirror_mode": {
        "name": "ipython",
        "version": 3
      },
      "file_extension": ".py",
      "mimetype": "text/x-python",
      "name": "python",
      "nbconvert_exporter": "python",
      "pygments_lexer": "ipython3",
      "version": "3.7.1"
    },
    "kernelspec": {
      "display_name": "Python 3",
      "language": "python",
      "name": "python3"
    }
  },
  "cells": [
    {
      "cell_type": "markdown",
      "metadata": {
        "id": "view-in-github",
        "colab_type": "text"
      },
      "source": [
        "<a href=\"https://colab.research.google.com/github/razzlestorm/DS-Unit-1-Sprint-2-Data-Wrangling-and-Storytelling/blob/master/Jerimiah_Willhite_DS_Unit_1_Sprint_Challenge_2_Data_Wrangling_and_Storytelling.ipynb\" target=\"_parent\"><img src=\"https://colab.research.google.com/assets/colab-badge.svg\" alt=\"Open In Colab\"/></a>"
      ]
    },
    {
      "cell_type": "markdown",
      "metadata": {
        "colab_type": "text",
        "id": "4yMHi_PX9hEz"
      },
      "source": [
        "# Data Science Unit 1 Sprint Challenge 2\n",
        "\n",
        "## Data Wrangling and Storytelling\n",
        "\n",
        "Taming data from its raw form into informative insights and stories."
      ]
    },
    {
      "cell_type": "markdown",
      "metadata": {
        "id": "9wIvtOss9H_i",
        "colab_type": "text"
      },
      "source": [
        "## Data Wrangling\n",
        "\n",
        "In this Sprint Challenge you will first \"wrangle\" some data from [Gapminder](https://www.gapminder.org/about-gapminder/), a Swedish non-profit co-founded by Hans Rosling. \"Gapminder produces free teaching resources making the world understandable based on reliable statistics.\"\n",
        "- [Cell phones (total), by country and year](https://raw.githubusercontent.com/open-numbers/ddf--gapminder--systema_globalis/master/ddf--datapoints--cell_phones_total--by--geo--time.csv)\n",
        "- [Population (total), by country and year](https://raw.githubusercontent.com/open-numbers/ddf--gapminder--systema_globalis/master/ddf--datapoints--population_total--by--geo--time.csv)\n",
        "- [Geo country codes](https://github.com/open-numbers/ddf--gapminder--systema_globalis/blob/master/ddf--entities--geo--country.csv)\n",
        "\n",
        "These two links have everything you need to successfully complete the first part of this sprint challenge.\n",
        "- [Pandas documentation: Working with Text Data](https://pandas.pydata.org/pandas-docs/stable/text.html) (one question)\n",
        "- [Pandas Cheat Sheet](https://github.com/pandas-dev/pandas/blob/master/doc/cheatsheet/Pandas_Cheat_Sheet.pdf) (everything else)"
      ]
    },
    {
      "cell_type": "markdown",
      "metadata": {
        "colab_type": "text",
        "id": "wWEU2GemX68A"
      },
      "source": [
        "### Part 0. Load data\n",
        "\n",
        "You don't need to add or change anything here. Just run this cell and it loads the data for you, into three dataframes."
      ]
    },
    {
      "cell_type": "code",
      "metadata": {
        "colab_type": "code",
        "id": "bxKtSi5sRQOl",
        "colab": {}
      },
      "source": [
        "import pandas as pd\n",
        "\n",
        "cell_phones = pd.read_csv('https://raw.githubusercontent.com/open-numbers/ddf--gapminder--systema_globalis/master/ddf--datapoints--cell_phones_total--by--geo--time.csv')\n",
        "\n",
        "population = pd.read_csv('https://raw.githubusercontent.com/open-numbers/ddf--gapminder--systema_globalis/master/ddf--datapoints--population_total--by--geo--time.csv')\n",
        "\n",
        "geo_country_codes = (pd.read_csv('https://raw.githubusercontent.com/open-numbers/ddf--gapminder--systema_globalis/master/ddf--entities--geo--country.csv')\n",
        "                       .rename(columns={'country': 'geo', 'name': 'country'}))"
      ],
      "execution_count": 0,
      "outputs": []
    },
    {
      "cell_type": "code",
      "metadata": {
        "id": "y66sv7__ADa0",
        "colab_type": "code",
        "colab": {
          "base_uri": "https://localhost:8080/",
          "height": 653
        },
        "outputId": "fe6019e4-d5d3-4ab5-9103-bd9fba671e19"
      },
      "source": [
        "print(cell_phones.head(10))\n",
        "print(population.head(10))\n",
        "print(geo_country_codes.head(10))"
      ],
      "execution_count": 3,
      "outputs": [
        {
          "output_type": "stream",
          "text": [
            "   geo  time  cell_phones_total\n",
            "0  abw  1960                0.0\n",
            "1  abw  1965                0.0\n",
            "2  abw  1970                0.0\n",
            "3  abw  1975                0.0\n",
            "4  abw  1976                0.0\n",
            "5  abw  1977                0.0\n",
            "6  abw  1978                0.0\n",
            "7  abw  1979                0.0\n",
            "8  abw  1980                0.0\n",
            "9  abw  1981                0.0\n",
            "   geo  time  population_total\n",
            "0  afg  1800           3280000\n",
            "1  afg  1801           3280000\n",
            "2  afg  1802           3280000\n",
            "3  afg  1803           3280000\n",
            "4  afg  1804           3280000\n",
            "5  afg  1805           3280000\n",
            "6  afg  1806           3280000\n",
            "7  afg  1807           3280000\n",
            "8  afg  1808           3280000\n",
            "9  afg  1809           3280000\n",
            "         geo alt_5  ... world_4region        world_6region\n",
            "0       abkh   NaN  ...        europe  europe_central_asia\n",
            "1        abw   NaN  ...      americas              america\n",
            "2        afg   NaN  ...          asia           south_asia\n",
            "3        ago   NaN  ...        africa   sub_saharan_africa\n",
            "4        aia   NaN  ...      americas              america\n",
            "5  akr_a_dhe   NaN  ...        europe  europe_central_asia\n",
            "6        ala   NaN  ...        europe  europe_central_asia\n",
            "7        alb   NaN  ...        europe  europe_central_asia\n",
            "8        and   NaN  ...        europe  europe_central_asia\n",
            "9        ant   NaN  ...      americas              america\n",
            "\n",
            "[10 rows x 33 columns]\n"
          ],
          "name": "stdout"
        }
      ]
    },
    {
      "cell_type": "code",
      "metadata": {
        "id": "oB4SpLkOBgRn",
        "colab_type": "code",
        "colab": {
          "base_uri": "https://localhost:8080/",
          "height": 162
        },
        "outputId": "e6435012-c4f6-42c2-cf51-83df8316aac6"
      },
      "source": [
        "geo_country_codes.columns.values"
      ],
      "execution_count": 7,
      "outputs": [
        {
          "output_type": "execute_result",
          "data": {
            "text/plain": [
              "array(['geo', 'alt_5', 'alternative_1', 'alternative_2', 'alternative_3',\n",
              "       'alternative_4_cdiac', 'arb1', 'arb2', 'arb3', 'arb4', 'arb5',\n",
              "       'arb6', 'g77_and_oecd_countries', 'gapminder_list', 'god_id',\n",
              "       'gwid', 'income_groups', 'is--country', 'iso3166_1_alpha2',\n",
              "       'iso3166_1_alpha3', 'iso3166_1_numeric', 'iso3166_2', 'landlocked',\n",
              "       'latitude', 'longitude', 'main_religion_2008', 'country', 'pandg',\n",
              "       'un_state', 'unicode_region_subtag', 'upper_case_name',\n",
              "       'world_4region', 'world_6region'], dtype=object)"
            ]
          },
          "metadata": {
            "tags": []
          },
          "execution_count": 7
        }
      ]
    },
    {
      "cell_type": "markdown",
      "metadata": {
        "colab_type": "text",
        "id": "AZmVTeCsX9RC"
      },
      "source": [
        "### Part 1. Join data"
      ]
    },
    {
      "cell_type": "markdown",
      "metadata": {
        "colab_type": "text",
        "id": "GLzX58u4SfEy"
      },
      "source": [
        "First, join the `cell_phones` and `population` dataframes (with an inner join on `geo` and `time`).\n",
        "\n",
        "The resulting dataframe's shape should be: (8590, 4)"
      ]
    },
    {
      "cell_type": "code",
      "metadata": {
        "colab_type": "code",
        "id": "GVV7Hnj4SXBa",
        "colab": {
          "base_uri": "https://localhost:8080/",
          "height": 224
        },
        "outputId": "904dc6a4-6cfe-4890-8847-6694472e9c89"
      },
      "source": [
        "merged = cell_phones.merge(population, how='inner', on=['geo', 'time'])\n",
        "print(merged.shape)\n",
        "merged.head()"
      ],
      "execution_count": 68,
      "outputs": [
        {
          "output_type": "stream",
          "text": [
            "(8590, 4)\n"
          ],
          "name": "stdout"
        },
        {
          "output_type": "execute_result",
          "data": {
            "text/html": [
              "<div>\n",
              "<style scoped>\n",
              "    .dataframe tbody tr th:only-of-type {\n",
              "        vertical-align: middle;\n",
              "    }\n",
              "\n",
              "    .dataframe tbody tr th {\n",
              "        vertical-align: top;\n",
              "    }\n",
              "\n",
              "    .dataframe thead th {\n",
              "        text-align: right;\n",
              "    }\n",
              "</style>\n",
              "<table border=\"1\" class=\"dataframe\">\n",
              "  <thead>\n",
              "    <tr style=\"text-align: right;\">\n",
              "      <th></th>\n",
              "      <th>geo</th>\n",
              "      <th>time</th>\n",
              "      <th>cell_phones_total</th>\n",
              "      <th>population_total</th>\n",
              "    </tr>\n",
              "  </thead>\n",
              "  <tbody>\n",
              "    <tr>\n",
              "      <th>0</th>\n",
              "      <td>afg</td>\n",
              "      <td>1960</td>\n",
              "      <td>0.0</td>\n",
              "      <td>8996351</td>\n",
              "    </tr>\n",
              "    <tr>\n",
              "      <th>1</th>\n",
              "      <td>afg</td>\n",
              "      <td>1965</td>\n",
              "      <td>0.0</td>\n",
              "      <td>9938414</td>\n",
              "    </tr>\n",
              "    <tr>\n",
              "      <th>2</th>\n",
              "      <td>afg</td>\n",
              "      <td>1970</td>\n",
              "      <td>0.0</td>\n",
              "      <td>11126123</td>\n",
              "    </tr>\n",
              "    <tr>\n",
              "      <th>3</th>\n",
              "      <td>afg</td>\n",
              "      <td>1975</td>\n",
              "      <td>0.0</td>\n",
              "      <td>12590286</td>\n",
              "    </tr>\n",
              "    <tr>\n",
              "      <th>4</th>\n",
              "      <td>afg</td>\n",
              "      <td>1976</td>\n",
              "      <td>0.0</td>\n",
              "      <td>12840299</td>\n",
              "    </tr>\n",
              "  </tbody>\n",
              "</table>\n",
              "</div>"
            ],
            "text/plain": [
              "   geo  time  cell_phones_total  population_total\n",
              "0  afg  1960                0.0           8996351\n",
              "1  afg  1965                0.0           9938414\n",
              "2  afg  1970                0.0          11126123\n",
              "3  afg  1975                0.0          12590286\n",
              "4  afg  1976                0.0          12840299"
            ]
          },
          "metadata": {
            "tags": []
          },
          "execution_count": 68
        }
      ]
    },
    {
      "cell_type": "markdown",
      "metadata": {
        "colab_type": "text",
        "id": "xsXpDbwwW241"
      },
      "source": [
        "Then, select the `geo` and `country` columns from the `geo_country_codes` dataframe, and join with your population and cell phone data.\n",
        "\n",
        "The resulting dataframe's shape should be: (8590, 5)"
      ]
    },
    {
      "cell_type": "code",
      "metadata": {
        "colab_type": "code",
        "id": "Q2LaZta_W2CE",
        "colab": {
          "base_uri": "https://localhost:8080/",
          "height": 206
        },
        "outputId": "62a1ee5b-a870-41a3-ccce-f1a023e71e60"
      },
      "source": [
        "df = merged.merge(geo_country_codes[['geo', 'country']])\n",
        "df.head()"
      ],
      "execution_count": 69,
      "outputs": [
        {
          "output_type": "execute_result",
          "data": {
            "text/html": [
              "<div>\n",
              "<style scoped>\n",
              "    .dataframe tbody tr th:only-of-type {\n",
              "        vertical-align: middle;\n",
              "    }\n",
              "\n",
              "    .dataframe tbody tr th {\n",
              "        vertical-align: top;\n",
              "    }\n",
              "\n",
              "    .dataframe thead th {\n",
              "        text-align: right;\n",
              "    }\n",
              "</style>\n",
              "<table border=\"1\" class=\"dataframe\">\n",
              "  <thead>\n",
              "    <tr style=\"text-align: right;\">\n",
              "      <th></th>\n",
              "      <th>geo</th>\n",
              "      <th>time</th>\n",
              "      <th>cell_phones_total</th>\n",
              "      <th>population_total</th>\n",
              "      <th>country</th>\n",
              "    </tr>\n",
              "  </thead>\n",
              "  <tbody>\n",
              "    <tr>\n",
              "      <th>0</th>\n",
              "      <td>afg</td>\n",
              "      <td>1960</td>\n",
              "      <td>0.0</td>\n",
              "      <td>8996351</td>\n",
              "      <td>Afghanistan</td>\n",
              "    </tr>\n",
              "    <tr>\n",
              "      <th>1</th>\n",
              "      <td>afg</td>\n",
              "      <td>1965</td>\n",
              "      <td>0.0</td>\n",
              "      <td>9938414</td>\n",
              "      <td>Afghanistan</td>\n",
              "    </tr>\n",
              "    <tr>\n",
              "      <th>2</th>\n",
              "      <td>afg</td>\n",
              "      <td>1970</td>\n",
              "      <td>0.0</td>\n",
              "      <td>11126123</td>\n",
              "      <td>Afghanistan</td>\n",
              "    </tr>\n",
              "    <tr>\n",
              "      <th>3</th>\n",
              "      <td>afg</td>\n",
              "      <td>1975</td>\n",
              "      <td>0.0</td>\n",
              "      <td>12590286</td>\n",
              "      <td>Afghanistan</td>\n",
              "    </tr>\n",
              "    <tr>\n",
              "      <th>4</th>\n",
              "      <td>afg</td>\n",
              "      <td>1976</td>\n",
              "      <td>0.0</td>\n",
              "      <td>12840299</td>\n",
              "      <td>Afghanistan</td>\n",
              "    </tr>\n",
              "  </tbody>\n",
              "</table>\n",
              "</div>"
            ],
            "text/plain": [
              "   geo  time  cell_phones_total  population_total      country\n",
              "0  afg  1960                0.0           8996351  Afghanistan\n",
              "1  afg  1965                0.0           9938414  Afghanistan\n",
              "2  afg  1970                0.0          11126123  Afghanistan\n",
              "3  afg  1975                0.0          12590286  Afghanistan\n",
              "4  afg  1976                0.0          12840299  Afghanistan"
            ]
          },
          "metadata": {
            "tags": []
          },
          "execution_count": 69
        }
      ]
    },
    {
      "cell_type": "code",
      "metadata": {
        "id": "mXm4mBP2DF0t",
        "colab_type": "code",
        "colab": {
          "base_uri": "https://localhost:8080/",
          "height": 35
        },
        "outputId": "1734e9e9-c578-4cbf-d37c-eaffccd5fdfa"
      },
      "source": [
        "print(df.shape)"
      ],
      "execution_count": 70,
      "outputs": [
        {
          "output_type": "stream",
          "text": [
            "(8590, 5)\n"
          ],
          "name": "stdout"
        }
      ]
    },
    {
      "cell_type": "markdown",
      "metadata": {
        "colab_type": "text",
        "id": "oK96Uj7vYjFX"
      },
      "source": [
        "### Part 2. Make features"
      ]
    },
    {
      "cell_type": "markdown",
      "metadata": {
        "colab_type": "text",
        "id": "AD2fBNrOYzCG"
      },
      "source": [
        "Calculate the number of cell phones per person, and add this column onto your dataframe.\n",
        "\n",
        "(You've calculated correctly if you get 1.220 cell phones per person in the United States in 2017.)"
      ]
    },
    {
      "cell_type": "code",
      "metadata": {
        "colab_type": "code",
        "id": "wXI9nQthYnFK",
        "colab": {
          "base_uri": "https://localhost:8080/",
          "height": 206
        },
        "outputId": "434c782a-dd96-451b-8c24-6c662f06ad56"
      },
      "source": [
        "df['phone_per_person'] = (df['cell_phones_total'] /df['population_total'] )\n",
        "df.head()"
      ],
      "execution_count": 71,
      "outputs": [
        {
          "output_type": "execute_result",
          "data": {
            "text/html": [
              "<div>\n",
              "<style scoped>\n",
              "    .dataframe tbody tr th:only-of-type {\n",
              "        vertical-align: middle;\n",
              "    }\n",
              "\n",
              "    .dataframe tbody tr th {\n",
              "        vertical-align: top;\n",
              "    }\n",
              "\n",
              "    .dataframe thead th {\n",
              "        text-align: right;\n",
              "    }\n",
              "</style>\n",
              "<table border=\"1\" class=\"dataframe\">\n",
              "  <thead>\n",
              "    <tr style=\"text-align: right;\">\n",
              "      <th></th>\n",
              "      <th>geo</th>\n",
              "      <th>time</th>\n",
              "      <th>cell_phones_total</th>\n",
              "      <th>population_total</th>\n",
              "      <th>country</th>\n",
              "      <th>phone_per_person</th>\n",
              "    </tr>\n",
              "  </thead>\n",
              "  <tbody>\n",
              "    <tr>\n",
              "      <th>0</th>\n",
              "      <td>afg</td>\n",
              "      <td>1960</td>\n",
              "      <td>0.0</td>\n",
              "      <td>8996351</td>\n",
              "      <td>Afghanistan</td>\n",
              "      <td>0.0</td>\n",
              "    </tr>\n",
              "    <tr>\n",
              "      <th>1</th>\n",
              "      <td>afg</td>\n",
              "      <td>1965</td>\n",
              "      <td>0.0</td>\n",
              "      <td>9938414</td>\n",
              "      <td>Afghanistan</td>\n",
              "      <td>0.0</td>\n",
              "    </tr>\n",
              "    <tr>\n",
              "      <th>2</th>\n",
              "      <td>afg</td>\n",
              "      <td>1970</td>\n",
              "      <td>0.0</td>\n",
              "      <td>11126123</td>\n",
              "      <td>Afghanistan</td>\n",
              "      <td>0.0</td>\n",
              "    </tr>\n",
              "    <tr>\n",
              "      <th>3</th>\n",
              "      <td>afg</td>\n",
              "      <td>1975</td>\n",
              "      <td>0.0</td>\n",
              "      <td>12590286</td>\n",
              "      <td>Afghanistan</td>\n",
              "      <td>0.0</td>\n",
              "    </tr>\n",
              "    <tr>\n",
              "      <th>4</th>\n",
              "      <td>afg</td>\n",
              "      <td>1976</td>\n",
              "      <td>0.0</td>\n",
              "      <td>12840299</td>\n",
              "      <td>Afghanistan</td>\n",
              "      <td>0.0</td>\n",
              "    </tr>\n",
              "  </tbody>\n",
              "</table>\n",
              "</div>"
            ],
            "text/plain": [
              "   geo  time  ...      country  phone_per_person\n",
              "0  afg  1960  ...  Afghanistan               0.0\n",
              "1  afg  1965  ...  Afghanistan               0.0\n",
              "2  afg  1970  ...  Afghanistan               0.0\n",
              "3  afg  1975  ...  Afghanistan               0.0\n",
              "4  afg  1976  ...  Afghanistan               0.0\n",
              "\n",
              "[5 rows x 6 columns]"
            ]
          },
          "metadata": {
            "tags": []
          },
          "execution_count": 71
        }
      ]
    },
    {
      "cell_type": "code",
      "metadata": {
        "id": "tLlY_JQ9E5PC",
        "colab_type": "code",
        "colab": {
          "base_uri": "https://localhost:8080/",
          "height": 81
        },
        "outputId": "6ffe6c2e-e787-4875-a627-74db102c8088"
      },
      "source": [
        "usa = df[df['country'] == 'United States']\n",
        "usa[usa['time'] == 2017]"
      ],
      "execution_count": 72,
      "outputs": [
        {
          "output_type": "execute_result",
          "data": {
            "text/html": [
              "<div>\n",
              "<style scoped>\n",
              "    .dataframe tbody tr th:only-of-type {\n",
              "        vertical-align: middle;\n",
              "    }\n",
              "\n",
              "    .dataframe tbody tr th {\n",
              "        vertical-align: top;\n",
              "    }\n",
              "\n",
              "    .dataframe thead th {\n",
              "        text-align: right;\n",
              "    }\n",
              "</style>\n",
              "<table border=\"1\" class=\"dataframe\">\n",
              "  <thead>\n",
              "    <tr style=\"text-align: right;\">\n",
              "      <th></th>\n",
              "      <th>geo</th>\n",
              "      <th>time</th>\n",
              "      <th>cell_phones_total</th>\n",
              "      <th>population_total</th>\n",
              "      <th>country</th>\n",
              "      <th>phone_per_person</th>\n",
              "    </tr>\n",
              "  </thead>\n",
              "  <tbody>\n",
              "    <tr>\n",
              "      <th>8134</th>\n",
              "      <td>usa</td>\n",
              "      <td>2017</td>\n",
              "      <td>395881000.0</td>\n",
              "      <td>324459463</td>\n",
              "      <td>United States</td>\n",
              "      <td>1.220125</td>\n",
              "    </tr>\n",
              "  </tbody>\n",
              "</table>\n",
              "</div>"
            ],
            "text/plain": [
              "      geo  time  ...        country  phone_per_person\n",
              "8134  usa  2017  ...  United States          1.220125\n",
              "\n",
              "[1 rows x 6 columns]"
            ]
          },
          "metadata": {
            "tags": []
          },
          "execution_count": 72
        }
      ]
    },
    {
      "cell_type": "markdown",
      "metadata": {
        "colab_type": "text",
        "id": "S3QFdsnRZMH6"
      },
      "source": [
        "Modify the `geo` column to make the geo codes uppercase instead of lowercase."
      ]
    },
    {
      "cell_type": "code",
      "metadata": {
        "colab_type": "code",
        "id": "93ADij8_YkOq",
        "colab": {
          "base_uri": "https://localhost:8080/",
          "height": 206
        },
        "outputId": "0df3e376-65c4-44d0-ea75-d5ff42e0784a"
      },
      "source": [
        "df['geo'] = df['geo'].str.upper()\n",
        "df.head()"
      ],
      "execution_count": 73,
      "outputs": [
        {
          "output_type": "execute_result",
          "data": {
            "text/html": [
              "<div>\n",
              "<style scoped>\n",
              "    .dataframe tbody tr th:only-of-type {\n",
              "        vertical-align: middle;\n",
              "    }\n",
              "\n",
              "    .dataframe tbody tr th {\n",
              "        vertical-align: top;\n",
              "    }\n",
              "\n",
              "    .dataframe thead th {\n",
              "        text-align: right;\n",
              "    }\n",
              "</style>\n",
              "<table border=\"1\" class=\"dataframe\">\n",
              "  <thead>\n",
              "    <tr style=\"text-align: right;\">\n",
              "      <th></th>\n",
              "      <th>geo</th>\n",
              "      <th>time</th>\n",
              "      <th>cell_phones_total</th>\n",
              "      <th>population_total</th>\n",
              "      <th>country</th>\n",
              "      <th>phone_per_person</th>\n",
              "    </tr>\n",
              "  </thead>\n",
              "  <tbody>\n",
              "    <tr>\n",
              "      <th>0</th>\n",
              "      <td>AFG</td>\n",
              "      <td>1960</td>\n",
              "      <td>0.0</td>\n",
              "      <td>8996351</td>\n",
              "      <td>Afghanistan</td>\n",
              "      <td>0.0</td>\n",
              "    </tr>\n",
              "    <tr>\n",
              "      <th>1</th>\n",
              "      <td>AFG</td>\n",
              "      <td>1965</td>\n",
              "      <td>0.0</td>\n",
              "      <td>9938414</td>\n",
              "      <td>Afghanistan</td>\n",
              "      <td>0.0</td>\n",
              "    </tr>\n",
              "    <tr>\n",
              "      <th>2</th>\n",
              "      <td>AFG</td>\n",
              "      <td>1970</td>\n",
              "      <td>0.0</td>\n",
              "      <td>11126123</td>\n",
              "      <td>Afghanistan</td>\n",
              "      <td>0.0</td>\n",
              "    </tr>\n",
              "    <tr>\n",
              "      <th>3</th>\n",
              "      <td>AFG</td>\n",
              "      <td>1975</td>\n",
              "      <td>0.0</td>\n",
              "      <td>12590286</td>\n",
              "      <td>Afghanistan</td>\n",
              "      <td>0.0</td>\n",
              "    </tr>\n",
              "    <tr>\n",
              "      <th>4</th>\n",
              "      <td>AFG</td>\n",
              "      <td>1976</td>\n",
              "      <td>0.0</td>\n",
              "      <td>12840299</td>\n",
              "      <td>Afghanistan</td>\n",
              "      <td>0.0</td>\n",
              "    </tr>\n",
              "  </tbody>\n",
              "</table>\n",
              "</div>"
            ],
            "text/plain": [
              "   geo  time  ...      country  phone_per_person\n",
              "0  AFG  1960  ...  Afghanistan               0.0\n",
              "1  AFG  1965  ...  Afghanistan               0.0\n",
              "2  AFG  1970  ...  Afghanistan               0.0\n",
              "3  AFG  1975  ...  Afghanistan               0.0\n",
              "4  AFG  1976  ...  Afghanistan               0.0\n",
              "\n",
              "[5 rows x 6 columns]"
            ]
          },
          "metadata": {
            "tags": []
          },
          "execution_count": 73
        }
      ]
    },
    {
      "cell_type": "markdown",
      "metadata": {
        "colab_type": "text",
        "id": "hlPDAFCfaF6C"
      },
      "source": [
        "### Part 3. Process data"
      ]
    },
    {
      "cell_type": "markdown",
      "metadata": {
        "colab_type": "text",
        "id": "k-pudNWve2SQ"
      },
      "source": [
        "Use the describe function, to describe your dataframe's numeric columns, and then its non-numeric columns.\n",
        "\n",
        "(You'll see the time period ranges from 1960 to 2017, and there are 195 unique countries represented.)"
      ]
    },
    {
      "cell_type": "code",
      "metadata": {
        "id": "CsAXzGssGZHR",
        "colab_type": "code",
        "colab": {
          "base_uri": "https://localhost:8080/",
          "height": 300
        },
        "outputId": "f455d79c-4077-47a5-ba7a-33544c23c365"
      },
      "source": [
        "##numeric columns\n",
        "df.describe(exclude='object')"
      ],
      "execution_count": 74,
      "outputs": [
        {
          "output_type": "execute_result",
          "data": {
            "text/html": [
              "<div>\n",
              "<style scoped>\n",
              "    .dataframe tbody tr th:only-of-type {\n",
              "        vertical-align: middle;\n",
              "    }\n",
              "\n",
              "    .dataframe tbody tr th {\n",
              "        vertical-align: top;\n",
              "    }\n",
              "\n",
              "    .dataframe thead th {\n",
              "        text-align: right;\n",
              "    }\n",
              "</style>\n",
              "<table border=\"1\" class=\"dataframe\">\n",
              "  <thead>\n",
              "    <tr style=\"text-align: right;\">\n",
              "      <th></th>\n",
              "      <th>time</th>\n",
              "      <th>cell_phones_total</th>\n",
              "      <th>population_total</th>\n",
              "      <th>phone_per_person</th>\n",
              "    </tr>\n",
              "  </thead>\n",
              "  <tbody>\n",
              "    <tr>\n",
              "      <th>count</th>\n",
              "      <td>8590.000000</td>\n",
              "      <td>8.590000e+03</td>\n",
              "      <td>8.590000e+03</td>\n",
              "      <td>8590.000000</td>\n",
              "    </tr>\n",
              "    <tr>\n",
              "      <th>mean</th>\n",
              "      <td>1994.193481</td>\n",
              "      <td>9.004950e+06</td>\n",
              "      <td>2.983823e+07</td>\n",
              "      <td>0.279639</td>\n",
              "    </tr>\n",
              "    <tr>\n",
              "      <th>std</th>\n",
              "      <td>14.257975</td>\n",
              "      <td>5.573408e+07</td>\n",
              "      <td>1.161284e+08</td>\n",
              "      <td>0.454247</td>\n",
              "    </tr>\n",
              "    <tr>\n",
              "      <th>min</th>\n",
              "      <td>1960.000000</td>\n",
              "      <td>0.000000e+00</td>\n",
              "      <td>4.433000e+03</td>\n",
              "      <td>0.000000</td>\n",
              "    </tr>\n",
              "    <tr>\n",
              "      <th>25%</th>\n",
              "      <td>1983.000000</td>\n",
              "      <td>0.000000e+00</td>\n",
              "      <td>1.456148e+06</td>\n",
              "      <td>0.000000</td>\n",
              "    </tr>\n",
              "    <tr>\n",
              "      <th>50%</th>\n",
              "      <td>1995.000000</td>\n",
              "      <td>6.200000e+03</td>\n",
              "      <td>5.725062e+06</td>\n",
              "      <td>0.001564</td>\n",
              "    </tr>\n",
              "    <tr>\n",
              "      <th>75%</th>\n",
              "      <td>2006.000000</td>\n",
              "      <td>1.697652e+06</td>\n",
              "      <td>1.810581e+07</td>\n",
              "      <td>0.461149</td>\n",
              "    </tr>\n",
              "    <tr>\n",
              "      <th>max</th>\n",
              "      <td>2017.000000</td>\n",
              "      <td>1.474097e+09</td>\n",
              "      <td>1.409517e+09</td>\n",
              "      <td>2.490243</td>\n",
              "    </tr>\n",
              "  </tbody>\n",
              "</table>\n",
              "</div>"
            ],
            "text/plain": [
              "              time  cell_phones_total  population_total  phone_per_person\n",
              "count  8590.000000       8.590000e+03      8.590000e+03       8590.000000\n",
              "mean   1994.193481       9.004950e+06      2.983823e+07          0.279639\n",
              "std      14.257975       5.573408e+07      1.161284e+08          0.454247\n",
              "min    1960.000000       0.000000e+00      4.433000e+03          0.000000\n",
              "25%    1983.000000       0.000000e+00      1.456148e+06          0.000000\n",
              "50%    1995.000000       6.200000e+03      5.725062e+06          0.001564\n",
              "75%    2006.000000       1.697652e+06      1.810581e+07          0.461149\n",
              "max    2017.000000       1.474097e+09      1.409517e+09          2.490243"
            ]
          },
          "metadata": {
            "tags": []
          },
          "execution_count": 74
        }
      ]
    },
    {
      "cell_type": "code",
      "metadata": {
        "colab_type": "code",
        "id": "g26yemKre2Cu",
        "colab": {
          "base_uri": "https://localhost:8080/",
          "height": 175
        },
        "outputId": "014e0e14-4c63-4b01-b653-9b3cda4371aa"
      },
      "source": [
        "##non-numeric columns\n",
        "df.describe(exclude='number')"
      ],
      "execution_count": 75,
      "outputs": [
        {
          "output_type": "execute_result",
          "data": {
            "text/html": [
              "<div>\n",
              "<style scoped>\n",
              "    .dataframe tbody tr th:only-of-type {\n",
              "        vertical-align: middle;\n",
              "    }\n",
              "\n",
              "    .dataframe tbody tr th {\n",
              "        vertical-align: top;\n",
              "    }\n",
              "\n",
              "    .dataframe thead th {\n",
              "        text-align: right;\n",
              "    }\n",
              "</style>\n",
              "<table border=\"1\" class=\"dataframe\">\n",
              "  <thead>\n",
              "    <tr style=\"text-align: right;\">\n",
              "      <th></th>\n",
              "      <th>geo</th>\n",
              "      <th>country</th>\n",
              "    </tr>\n",
              "  </thead>\n",
              "  <tbody>\n",
              "    <tr>\n",
              "      <th>count</th>\n",
              "      <td>8590</td>\n",
              "      <td>8590</td>\n",
              "    </tr>\n",
              "    <tr>\n",
              "      <th>unique</th>\n",
              "      <td>195</td>\n",
              "      <td>195</td>\n",
              "    </tr>\n",
              "    <tr>\n",
              "      <th>top</th>\n",
              "      <td>DEU</td>\n",
              "      <td>Lithuania</td>\n",
              "    </tr>\n",
              "    <tr>\n",
              "      <th>freq</th>\n",
              "      <td>46</td>\n",
              "      <td>46</td>\n",
              "    </tr>\n",
              "  </tbody>\n",
              "</table>\n",
              "</div>"
            ],
            "text/plain": [
              "         geo    country\n",
              "count   8590       8590\n",
              "unique   195        195\n",
              "top      DEU  Lithuania\n",
              "freq      46         46"
            ]
          },
          "metadata": {
            "tags": []
          },
          "execution_count": 75
        }
      ]
    },
    {
      "cell_type": "markdown",
      "metadata": {
        "colab_type": "text",
        "id": "zALg-RrYaLcI"
      },
      "source": [
        "In 2017, what were the top 5 countries with the most cell phones total?\n",
        "\n",
        "Your list of countries should have these totals:\n",
        "\n",
        "| country | cell phones total |\n",
        "|:-------:|:-----------------:|\n",
        "|    ?    |     1,474,097,000 |\n",
        "|    ?    |     1,168,902,277 |\n",
        "|    ?    |       458,923,202 |\n",
        "|    ?    |       395,881,000 |\n",
        "|    ?    |       236,488,548 |\n",
        "\n"
      ]
    },
    {
      "cell_type": "code",
      "metadata": {
        "colab_type": "code",
        "id": "JdlWvezHaZxD",
        "colab": {
          "base_uri": "https://localhost:8080/",
          "height": 35
        },
        "outputId": "885843ec-854a-4a3d-dc78-568e5e346bd7"
      },
      "source": [
        "# This optional code formats float numbers with comma separators\n",
        "pd.options.display.float_format = '{:,}'.format\n",
        "\n",
        "#ANSWERS\n",
        "'''\n",
        "1. China\n",
        "2. India\n",
        "3. Indonesia\n",
        "4. United States\n",
        "5. Brazil\n",
        "'''"
      ],
      "execution_count": 76,
      "outputs": [
        {
          "output_type": "execute_result",
          "data": {
            "text/plain": [
              "'\\n1. China\\n2. India\\n3. Indonesia\\n4. United States\\n5. Brazil\\n'"
            ]
          },
          "metadata": {
            "tags": []
          },
          "execution_count": 76
        }
      ]
    },
    {
      "cell_type": "code",
      "metadata": {
        "colab_type": "code",
        "id": "smX8vzu4cyju",
        "colab": {
          "base_uri": "https://localhost:8080/",
          "height": 1000
        },
        "outputId": "47dbdf4c-99c7-4617-81b4-beddfced2fd8"
      },
      "source": [
        "year_2017 = df[df['time'] == 2017]\n",
        "year_2017.sort_values(by='cell_phones_total', ascending = False)"
      ],
      "execution_count": 77,
      "outputs": [
        {
          "output_type": "execute_result",
          "data": {
            "text/html": [
              "<div>\n",
              "<style scoped>\n",
              "    .dataframe tbody tr th:only-of-type {\n",
              "        vertical-align: middle;\n",
              "    }\n",
              "\n",
              "    .dataframe tbody tr th {\n",
              "        vertical-align: top;\n",
              "    }\n",
              "\n",
              "    .dataframe thead th {\n",
              "        text-align: right;\n",
              "    }\n",
              "</style>\n",
              "<table border=\"1\" class=\"dataframe\">\n",
              "  <thead>\n",
              "    <tr style=\"text-align: right;\">\n",
              "      <th></th>\n",
              "      <th>geo</th>\n",
              "      <th>time</th>\n",
              "      <th>cell_phones_total</th>\n",
              "      <th>population_total</th>\n",
              "      <th>country</th>\n",
              "      <th>phone_per_person</th>\n",
              "    </tr>\n",
              "  </thead>\n",
              "  <tbody>\n",
              "    <tr>\n",
              "      <th>1496</th>\n",
              "      <td>CHN</td>\n",
              "      <td>2017</td>\n",
              "      <td>1,474,097,000.0</td>\n",
              "      <td>1409517397</td>\n",
              "      <td>China</td>\n",
              "      <td>1.0458168186766978</td>\n",
              "    </tr>\n",
              "    <tr>\n",
              "      <th>3595</th>\n",
              "      <td>IND</td>\n",
              "      <td>2017</td>\n",
              "      <td>1,168,902,277.0</td>\n",
              "      <td>1339180127</td>\n",
              "      <td>India</td>\n",
              "      <td>0.8728491809526382</td>\n",
              "    </tr>\n",
              "    <tr>\n",
              "      <th>3549</th>\n",
              "      <td>IDN</td>\n",
              "      <td>2017</td>\n",
              "      <td>458,923,202.0</td>\n",
              "      <td>263991379</td>\n",
              "      <td>Indonesia</td>\n",
              "      <td>1.738402230172827</td>\n",
              "    </tr>\n",
              "    <tr>\n",
              "      <th>8134</th>\n",
              "      <td>USA</td>\n",
              "      <td>2017</td>\n",
              "      <td>395,881,000.0</td>\n",
              "      <td>324459463</td>\n",
              "      <td>United States</td>\n",
              "      <td>1.2201246847283354</td>\n",
              "    </tr>\n",
              "    <tr>\n",
              "      <th>1084</th>\n",
              "      <td>BRA</td>\n",
              "      <td>2017</td>\n",
              "      <td>236,488,548.0</td>\n",
              "      <td>209288278</td>\n",
              "      <td>Brazil</td>\n",
              "      <td>1.1299655683535224</td>\n",
              "    </tr>\n",
              "    <tr>\n",
              "      <th>6636</th>\n",
              "      <td>RUS</td>\n",
              "      <td>2017</td>\n",
              "      <td>227,341,873.0</td>\n",
              "      <td>143989754</td>\n",
              "      <td>Russia</td>\n",
              "      <td>1.5788753483112417</td>\n",
              "    </tr>\n",
              "    <tr>\n",
              "      <th>3990</th>\n",
              "      <td>JPN</td>\n",
              "      <td>2017</td>\n",
              "      <td>170,128,499.0</td>\n",
              "      <td>127484450</td>\n",
              "      <td>Japan</td>\n",
              "      <td>1.3345039257729079</td>\n",
              "    </tr>\n",
              "    <tr>\n",
              "      <th>718</th>\n",
              "      <td>BGD</td>\n",
              "      <td>2017</td>\n",
              "      <td>145,113,669.0</td>\n",
              "      <td>164669751</td>\n",
              "      <td>Bangladesh</td>\n",
              "      <td>0.8812405928761015</td>\n",
              "    </tr>\n",
              "    <tr>\n",
              "      <th>5748</th>\n",
              "      <td>NGA</td>\n",
              "      <td>2017</td>\n",
              "      <td>144,920,170.0</td>\n",
              "      <td>190886311</td>\n",
              "      <td>Nigeria</td>\n",
              "      <td>0.7591962422072267</td>\n",
              "    </tr>\n",
              "    <tr>\n",
              "      <th>6104</th>\n",
              "      <td>PAK</td>\n",
              "      <td>2017</td>\n",
              "      <td>144,525,637.0</td>\n",
              "      <td>197015955</td>\n",
              "      <td>Pakistan</td>\n",
              "      <td>0.7335732631400335</td>\n",
              "    </tr>\n",
              "    <tr>\n",
              "      <th>7576</th>\n",
              "      <td>THA</td>\n",
              "      <td>2017</td>\n",
              "      <td>121,530,000.0</td>\n",
              "      <td>69037513</td>\n",
              "      <td>Thailand</td>\n",
              "      <td>1.7603473056742354</td>\n",
              "    </tr>\n",
              "    <tr>\n",
              "      <th>8317</th>\n",
              "      <td>VNM</td>\n",
              "      <td>2017</td>\n",
              "      <td>120,016,181.0</td>\n",
              "      <td>95540800</td>\n",
              "      <td>Vietnam</td>\n",
              "      <td>1.2561772666755984</td>\n",
              "    </tr>\n",
              "    <tr>\n",
              "      <th>6242</th>\n",
              "      <td>PHL</td>\n",
              "      <td>2017</td>\n",
              "      <td>115,824,982.0</td>\n",
              "      <td>104918090</td>\n",
              "      <td>Philippines</td>\n",
              "      <td>1.1039562576863533</td>\n",
              "    </tr>\n",
              "    <tr>\n",
              "      <th>5102</th>\n",
              "      <td>MEX</td>\n",
              "      <td>2017</td>\n",
              "      <td>114,326,842.0</td>\n",
              "      <td>129163276</td>\n",
              "      <td>Mexico</td>\n",
              "      <td>0.8851342698988217</td>\n",
              "    </tr>\n",
              "    <tr>\n",
              "      <th>2044</th>\n",
              "      <td>DEU</td>\n",
              "      <td>2017</td>\n",
              "      <td>106,000,000.0</td>\n",
              "      <td>82114224</td>\n",
              "      <td>Germany</td>\n",
              "      <td>1.2908847558493641</td>\n",
              "    </tr>\n",
              "    <tr>\n",
              "      <th>2362</th>\n",
              "      <td>EGY</td>\n",
              "      <td>2017</td>\n",
              "      <td>102,958,194.0</td>\n",
              "      <td>97553151</td>\n",
              "      <td>Egypt</td>\n",
              "      <td>1.0554061344466463</td>\n",
              "    </tr>\n",
              "    <tr>\n",
              "      <th>8497</th>\n",
              "      <td>ZAF</td>\n",
              "      <td>2017</td>\n",
              "      <td>91,878,275.0</td>\n",
              "      <td>56717156</td>\n",
              "      <td>South Africa</td>\n",
              "      <td>1.619937977849242</td>\n",
              "    </tr>\n",
              "    <tr>\n",
              "      <th>3687</th>\n",
              "      <td>IRN</td>\n",
              "      <td>2017</td>\n",
              "      <td>87,106,508.0</td>\n",
              "      <td>81162788</td>\n",
              "      <td>Iran</td>\n",
              "      <td>1.0732320826633013</td>\n",
              "    </tr>\n",
              "    <tr>\n",
              "      <th>3853</th>\n",
              "      <td>ITA</td>\n",
              "      <td>2017</td>\n",
              "      <td>83,871,543.0</td>\n",
              "      <td>59359900</td>\n",
              "      <td>Italy</td>\n",
              "      <td>1.412932686881211</td>\n",
              "    </tr>\n",
              "    <tr>\n",
              "      <th>2817</th>\n",
              "      <td>GBR</td>\n",
              "      <td>2017</td>\n",
              "      <td>79,173,658.0</td>\n",
              "      <td>66181585</td>\n",
              "      <td>United Kingdom</td>\n",
              "      <td>1.196309486997025</td>\n",
              "    </tr>\n",
              "    <tr>\n",
              "      <th>7863</th>\n",
              "      <td>TUR</td>\n",
              "      <td>2017</td>\n",
              "      <td>77,800,170.0</td>\n",
              "      <td>80745020</td>\n",
              "      <td>Turkey</td>\n",
              "      <td>0.9635290201178971</td>\n",
              "    </tr>\n",
              "    <tr>\n",
              "      <th>2680</th>\n",
              "      <td>FRA</td>\n",
              "      <td>2017</td>\n",
              "      <td>69,017,000.0</td>\n",
              "      <td>64979548</td>\n",
              "      <td>France</td>\n",
              "      <td>1.0621341964397784</td>\n",
              "    </tr>\n",
              "    <tr>\n",
              "      <th>4305</th>\n",
              "      <td>KOR</td>\n",
              "      <td>2017</td>\n",
              "      <td>63,658,688.0</td>\n",
              "      <td>50982212</td>\n",
              "      <td>South Korea</td>\n",
              "      <td>1.248645076443525</td>\n",
              "    </tr>\n",
              "    <tr>\n",
              "      <th>2542</th>\n",
              "      <td>ETH</td>\n",
              "      <td>2017</td>\n",
              "      <td>62,617,000.0</td>\n",
              "      <td>104957438</td>\n",
              "      <td>Ethiopia</td>\n",
              "      <td>0.5965942118366113</td>\n",
              "    </tr>\n",
              "    <tr>\n",
              "      <th>1722</th>\n",
              "      <td>COL</td>\n",
              "      <td>2017</td>\n",
              "      <td>62,222,011.0</td>\n",
              "      <td>49065615</td>\n",
              "      <td>Colombia</td>\n",
              "      <td>1.268138817785123</td>\n",
              "    </tr>\n",
              "    <tr>\n",
              "      <th>265</th>\n",
              "      <td>ARG</td>\n",
              "      <td>2017</td>\n",
              "      <td>61,897,379.0</td>\n",
              "      <td>44271041</td>\n",
              "      <td>Argentina</td>\n",
              "      <td>1.3981460024850105</td>\n",
              "    </tr>\n",
              "    <tr>\n",
              "      <th>8045</th>\n",
              "      <td>UKR</td>\n",
              "      <td>2017</td>\n",
              "      <td>55,714,733.0</td>\n",
              "      <td>44222947</td>\n",
              "      <td>Ukraine</td>\n",
              "      <td>1.2598602485718557</td>\n",
              "    </tr>\n",
              "    <tr>\n",
              "      <th>2450</th>\n",
              "      <td>ESP</td>\n",
              "      <td>2017</td>\n",
              "      <td>52,484,655.0</td>\n",
              "      <td>46354321</td>\n",
              "      <td>Spain</td>\n",
              "      <td>1.1322494617060619</td>\n",
              "    </tr>\n",
              "    <tr>\n",
              "      <th>2270</th>\n",
              "      <td>DZA</td>\n",
              "      <td>2017</td>\n",
              "      <td>49,873,389.0</td>\n",
              "      <td>41318142</td>\n",
              "      <td>Algeria</td>\n",
              "      <td>1.2070578827092466</td>\n",
              "    </tr>\n",
              "    <tr>\n",
              "      <th>6347</th>\n",
              "      <td>POL</td>\n",
              "      <td>2017</td>\n",
              "      <td>49,828,596.0</td>\n",
              "      <td>38170712</td>\n",
              "      <td>Poland</td>\n",
              "      <td>1.3054143711021162</td>\n",
              "    </tr>\n",
              "    <tr>\n",
              "      <th>...</th>\n",
              "      <td>...</td>\n",
              "      <td>...</td>\n",
              "      <td>...</td>\n",
              "      <td>...</td>\n",
              "      <td>...</td>\n",
              "      <td>...</td>\n",
              "    </tr>\n",
              "    <tr>\n",
              "      <th>5335</th>\n",
              "      <td>MNE</td>\n",
              "      <td>2017</td>\n",
              "      <td>1,044,674.0</td>\n",
              "      <td>628960</td>\n",
              "      <td>Montenegro</td>\n",
              "      <td>1.6609545917069448</td>\n",
              "    </tr>\n",
              "    <tr>\n",
              "      <th>2634</th>\n",
              "      <td>FJI</td>\n",
              "      <td>2017</td>\n",
              "      <td>1,033,915.0</td>\n",
              "      <td>905502</td>\n",
              "      <td>Fiji</td>\n",
              "      <td>1.141814153916833</td>\n",
              "    </tr>\n",
              "    <tr>\n",
              "      <th>5056</th>\n",
              "      <td>MDV</td>\n",
              "      <td>2017</td>\n",
              "      <td>900,120.0</td>\n",
              "      <td>436330</td>\n",
              "      <td>Maldives</td>\n",
              "      <td>2.0629340178305413</td>\n",
              "    </tr>\n",
              "    <tr>\n",
              "      <th>7164</th>\n",
              "      <td>SUR</td>\n",
              "      <td>2017</td>\n",
              "      <td>795,871.0</td>\n",
              "      <td>563402</td>\n",
              "      <td>Suriname</td>\n",
              "      <td>1.4126165686312793</td>\n",
              "    </tr>\n",
              "    <tr>\n",
              "      <th>4780</th>\n",
              "      <td>LUX</td>\n",
              "      <td>2017</td>\n",
              "      <td>794,000.0</td>\n",
              "      <td>583455</td>\n",
              "      <td>Luxembourg</td>\n",
              "      <td>1.3608590208327977</td>\n",
              "    </tr>\n",
              "    <tr>\n",
              "      <th>1221</th>\n",
              "      <td>BTN</td>\n",
              "      <td>2017</td>\n",
              "      <td>730,623.0</td>\n",
              "      <td>807610</td>\n",
              "      <td>Bhutan</td>\n",
              "      <td>0.904673047634378</td>\n",
              "    </tr>\n",
              "    <tr>\n",
              "      <th>3273</th>\n",
              "      <td>GUY</td>\n",
              "      <td>2017</td>\n",
              "      <td>643,210.0</td>\n",
              "      <td>777859</td>\n",
              "      <td>Guyana</td>\n",
              "      <td>0.8268979339443266</td>\n",
              "    </tr>\n",
              "    <tr>\n",
              "      <th>1814</th>\n",
              "      <td>CPV</td>\n",
              "      <td>2017</td>\n",
              "      <td>612,259.0</td>\n",
              "      <td>546388</td>\n",
              "      <td>Cape Verde</td>\n",
              "      <td>1.120557186468224</td>\n",
              "    </tr>\n",
              "    <tr>\n",
              "      <th>5275</th>\n",
              "      <td>MLT</td>\n",
              "      <td>2017</td>\n",
              "      <td>560,010.0</td>\n",
              "      <td>430835</td>\n",
              "      <td>Malta</td>\n",
              "      <td>1.2998247588984182</td>\n",
              "    </tr>\n",
              "    <tr>\n",
              "      <th>1175</th>\n",
              "      <td>BRN</td>\n",
              "      <td>2017</td>\n",
              "      <td>544,732.0</td>\n",
              "      <td>428697</td>\n",
              "      <td>Brunei</td>\n",
              "      <td>1.270669027308332</td>\n",
              "    </tr>\n",
              "    <tr>\n",
              "      <th>6890</th>\n",
              "      <td>SLB</td>\n",
              "      <td>2017</td>\n",
              "      <td>465,331.0</td>\n",
              "      <td>611343</td>\n",
              "      <td>Solomon Islands</td>\n",
              "      <td>0.7611619009295927</td>\n",
              "    </tr>\n",
              "    <tr>\n",
              "      <th>1768</th>\n",
              "      <td>COM</td>\n",
              "      <td>2017</td>\n",
              "      <td>446,868.0</td>\n",
              "      <td>813912</td>\n",
              "      <td>Comoros</td>\n",
              "      <td>0.5490372423554389</td>\n",
              "    </tr>\n",
              "    <tr>\n",
              "      <th>3779</th>\n",
              "      <td>ISL</td>\n",
              "      <td>2017</td>\n",
              "      <td>410,662.0</td>\n",
              "      <td>335025</td>\n",
              "      <td>Iceland</td>\n",
              "      <td>1.2257652413998956</td>\n",
              "    </tr>\n",
              "    <tr>\n",
              "      <th>2090</th>\n",
              "      <td>DJI</td>\n",
              "      <td>2017</td>\n",
              "      <td>373,052.0</td>\n",
              "      <td>956985</td>\n",
              "      <td>Djibouti</td>\n",
              "      <td>0.3898201121229695</td>\n",
              "    </tr>\n",
              "    <tr>\n",
              "      <th>855</th>\n",
              "      <td>BHS</td>\n",
              "      <td>2017</td>\n",
              "      <td>353,540.0</td>\n",
              "      <td>395361</td>\n",
              "      <td>Bahamas</td>\n",
              "      <td>0.8942207248565235</td>\n",
              "    </tr>\n",
              "    <tr>\n",
              "      <th>1130</th>\n",
              "      <td>BRB</td>\n",
              "      <td>2017</td>\n",
              "      <td>337,791.0</td>\n",
              "      <td>285719</td>\n",
              "      <td>Barbados</td>\n",
              "      <td>1.1822489928916173</td>\n",
              "    </tr>\n",
              "    <tr>\n",
              "      <th>8363</th>\n",
              "      <td>VUT</td>\n",
              "      <td>2017</td>\n",
              "      <td>228,016.0</td>\n",
              "      <td>276244</td>\n",
              "      <td>Vanuatu</td>\n",
              "      <td>0.8254152126381026</td>\n",
              "    </tr>\n",
              "    <tr>\n",
              "      <th>4575</th>\n",
              "      <td>LCA</td>\n",
              "      <td>2017</td>\n",
              "      <td>176,694.0</td>\n",
              "      <td>178844</td>\n",
              "      <td>St. Lucia</td>\n",
              "      <td>0.9879783498467939</td>\n",
              "    </tr>\n",
              "    <tr>\n",
              "      <th>7118</th>\n",
              "      <td>STP</td>\n",
              "      <td>2017</td>\n",
              "      <td>173,646.0</td>\n",
              "      <td>204327</td>\n",
              "      <td>Sao Tome and Principe</td>\n",
              "      <td>0.8498436330000441</td>\n",
              "    </tr>\n",
              "    <tr>\n",
              "      <th>7393</th>\n",
              "      <td>SYC</td>\n",
              "      <td>2017</td>\n",
              "      <td>167,282.0</td>\n",
              "      <td>94737</td>\n",
              "      <td>Seychelles</td>\n",
              "      <td>1.7657515015252752</td>\n",
              "    </tr>\n",
              "    <tr>\n",
              "      <th>8406</th>\n",
              "      <td>WSM</td>\n",
              "      <td>2017</td>\n",
              "      <td>124,211.0</td>\n",
              "      <td>196440</td>\n",
              "      <td>Samoa</td>\n",
              "      <td>0.6323101201384647</td>\n",
              "    </tr>\n",
              "    <tr>\n",
              "      <th>8225</th>\n",
              "      <td>VCT</td>\n",
              "      <td>2017</td>\n",
              "      <td>116,161.0</td>\n",
              "      <td>109897</td>\n",
              "      <td>St. Vincent and the Grenadines</td>\n",
              "      <td>1.056998826173599</td>\n",
              "    </tr>\n",
              "    <tr>\n",
              "      <th>3181</th>\n",
              "      <td>GRD</td>\n",
              "      <td>2017</td>\n",
              "      <td>113,177.0</td>\n",
              "      <td>107825</td>\n",
              "      <td>Grenada</td>\n",
              "      <td>1.049635984233712</td>\n",
              "    </tr>\n",
              "    <tr>\n",
              "      <th>183</th>\n",
              "      <td>AND</td>\n",
              "      <td>2017</td>\n",
              "      <td>80,337.0</td>\n",
              "      <td>76965</td>\n",
              "      <td>Andorra</td>\n",
              "      <td>1.0438121223932957</td>\n",
              "    </tr>\n",
              "    <tr>\n",
              "      <th>4261</th>\n",
              "      <td>KNA</td>\n",
              "      <td>2017</td>\n",
              "      <td>76,878.0</td>\n",
              "      <td>55345</td>\n",
              "      <td>St. Kitts and Nevis</td>\n",
              "      <td>1.3890685698798446</td>\n",
              "    </tr>\n",
              "    <tr>\n",
              "      <th>4596</th>\n",
              "      <td>LIE</td>\n",
              "      <td>2017</td>\n",
              "      <td>46,625.0</td>\n",
              "      <td>37922</td>\n",
              "      <td>Liechtenstein</td>\n",
              "      <td>1.2294973893781973</td>\n",
              "    </tr>\n",
              "    <tr>\n",
              "      <th>4220</th>\n",
              "      <td>KIR</td>\n",
              "      <td>2017</td>\n",
              "      <td>46,123.0</td>\n",
              "      <td>116398</td>\n",
              "      <td>Kiribati</td>\n",
              "      <td>0.3962525129297754</td>\n",
              "    </tr>\n",
              "    <tr>\n",
              "      <th>7005</th>\n",
              "      <td>SMR</td>\n",
              "      <td>2017</td>\n",
              "      <td>38,000.0</td>\n",
              "      <td>33400</td>\n",
              "      <td>San Marino</td>\n",
              "      <td>1.1377245508982037</td>\n",
              "    </tr>\n",
              "    <tr>\n",
              "      <th>4918</th>\n",
              "      <td>MCO</td>\n",
              "      <td>2017</td>\n",
              "      <td>32,978.0</td>\n",
              "      <td>38695</td>\n",
              "      <td>Monaco</td>\n",
              "      <td>0.8522548132833699</td>\n",
              "    </tr>\n",
              "    <tr>\n",
              "      <th>2725</th>\n",
              "      <td>FSM</td>\n",
              "      <td>2017</td>\n",
              "      <td>23,114.0</td>\n",
              "      <td>105544</td>\n",
              "      <td>Micronesia, Fed. Sts.</td>\n",
              "      <td>0.21899871143788371</td>\n",
              "    </tr>\n",
              "  </tbody>\n",
              "</table>\n",
              "<p>168 rows × 6 columns</p>\n",
              "</div>"
            ],
            "text/plain": [
              "      geo  time  ...                         country    phone_per_person\n",
              "1496  CHN  2017  ...                           China  1.0458168186766978\n",
              "3595  IND  2017  ...                           India  0.8728491809526382\n",
              "3549  IDN  2017  ...                       Indonesia   1.738402230172827\n",
              "8134  USA  2017  ...                   United States  1.2201246847283354\n",
              "1084  BRA  2017  ...                          Brazil  1.1299655683535224\n",
              "6636  RUS  2017  ...                          Russia  1.5788753483112417\n",
              "3990  JPN  2017  ...                           Japan  1.3345039257729079\n",
              "718   BGD  2017  ...                      Bangladesh  0.8812405928761015\n",
              "5748  NGA  2017  ...                         Nigeria  0.7591962422072267\n",
              "6104  PAK  2017  ...                        Pakistan  0.7335732631400335\n",
              "7576  THA  2017  ...                        Thailand  1.7603473056742354\n",
              "8317  VNM  2017  ...                         Vietnam  1.2561772666755984\n",
              "6242  PHL  2017  ...                     Philippines  1.1039562576863533\n",
              "5102  MEX  2017  ...                          Mexico  0.8851342698988217\n",
              "2044  DEU  2017  ...                         Germany  1.2908847558493641\n",
              "2362  EGY  2017  ...                           Egypt  1.0554061344466463\n",
              "8497  ZAF  2017  ...                    South Africa   1.619937977849242\n",
              "3687  IRN  2017  ...                            Iran  1.0732320826633013\n",
              "3853  ITA  2017  ...                           Italy   1.412932686881211\n",
              "2817  GBR  2017  ...                  United Kingdom   1.196309486997025\n",
              "7863  TUR  2017  ...                          Turkey  0.9635290201178971\n",
              "2680  FRA  2017  ...                          France  1.0621341964397784\n",
              "4305  KOR  2017  ...                     South Korea   1.248645076443525\n",
              "2542  ETH  2017  ...                        Ethiopia  0.5965942118366113\n",
              "1722  COL  2017  ...                        Colombia   1.268138817785123\n",
              "265   ARG  2017  ...                       Argentina  1.3981460024850105\n",
              "8045  UKR  2017  ...                         Ukraine  1.2598602485718557\n",
              "2450  ESP  2017  ...                           Spain  1.1322494617060619\n",
              "2270  DZA  2017  ...                         Algeria  1.2070578827092466\n",
              "6347  POL  2017  ...                          Poland  1.3054143711021162\n",
              "...   ...   ...  ...                             ...                 ...\n",
              "5335  MNE  2017  ...                      Montenegro  1.6609545917069448\n",
              "2634  FJI  2017  ...                            Fiji   1.141814153916833\n",
              "5056  MDV  2017  ...                        Maldives  2.0629340178305413\n",
              "7164  SUR  2017  ...                        Suriname  1.4126165686312793\n",
              "4780  LUX  2017  ...                      Luxembourg  1.3608590208327977\n",
              "1221  BTN  2017  ...                          Bhutan   0.904673047634378\n",
              "3273  GUY  2017  ...                          Guyana  0.8268979339443266\n",
              "1814  CPV  2017  ...                      Cape Verde   1.120557186468224\n",
              "5275  MLT  2017  ...                           Malta  1.2998247588984182\n",
              "1175  BRN  2017  ...                          Brunei   1.270669027308332\n",
              "6890  SLB  2017  ...                 Solomon Islands  0.7611619009295927\n",
              "1768  COM  2017  ...                         Comoros  0.5490372423554389\n",
              "3779  ISL  2017  ...                         Iceland  1.2257652413998956\n",
              "2090  DJI  2017  ...                        Djibouti  0.3898201121229695\n",
              "855   BHS  2017  ...                         Bahamas  0.8942207248565235\n",
              "1130  BRB  2017  ...                        Barbados  1.1822489928916173\n",
              "8363  VUT  2017  ...                         Vanuatu  0.8254152126381026\n",
              "4575  LCA  2017  ...                       St. Lucia  0.9879783498467939\n",
              "7118  STP  2017  ...           Sao Tome and Principe  0.8498436330000441\n",
              "7393  SYC  2017  ...                      Seychelles  1.7657515015252752\n",
              "8406  WSM  2017  ...                           Samoa  0.6323101201384647\n",
              "8225  VCT  2017  ...  St. Vincent and the Grenadines   1.056998826173599\n",
              "3181  GRD  2017  ...                         Grenada   1.049635984233712\n",
              "183   AND  2017  ...                         Andorra  1.0438121223932957\n",
              "4261  KNA  2017  ...             St. Kitts and Nevis  1.3890685698798446\n",
              "4596  LIE  2017  ...                   Liechtenstein  1.2294973893781973\n",
              "4220  KIR  2017  ...                        Kiribati  0.3962525129297754\n",
              "7005  SMR  2017  ...                      San Marino  1.1377245508982037\n",
              "4918  MCO  2017  ...                          Monaco  0.8522548132833699\n",
              "2725  FSM  2017  ...           Micronesia, Fed. Sts. 0.21899871143788371\n",
              "\n",
              "[168 rows x 6 columns]"
            ]
          },
          "metadata": {
            "tags": []
          },
          "execution_count": 77
        }
      ]
    },
    {
      "cell_type": "markdown",
      "metadata": {
        "colab_type": "text",
        "id": "03V3Wln_h0dj"
      },
      "source": [
        "2017 was the first year that China had more cell phones than people.\n",
        "\n",
        "What was the first year that the USA had more cell phones than people?"
      ]
    },
    {
      "cell_type": "code",
      "metadata": {
        "colab_type": "code",
        "id": "KONQkQZ3haNC",
        "colab": {
          "base_uri": "https://localhost:8080/",
          "height": 300
        },
        "outputId": "44f83a50-54d6-4591-d832-1a6957473c87"
      },
      "source": [
        "#Changed it to 0.9 just to confirm it was getting the right data\n",
        "\n",
        "us_cell_phones = df[(df['country'] == 'United States') & (df['phone_per_person'] > 0.9)]\n",
        "us_cell_phones.sort_values(by='time')\n",
        "\n",
        "##ANSWER\n",
        "#2014\n",
        "\n"
      ],
      "execution_count": 78,
      "outputs": [
        {
          "output_type": "execute_result",
          "data": {
            "text/html": [
              "<div>\n",
              "<style scoped>\n",
              "    .dataframe tbody tr th:only-of-type {\n",
              "        vertical-align: middle;\n",
              "    }\n",
              "\n",
              "    .dataframe tbody tr th {\n",
              "        vertical-align: top;\n",
              "    }\n",
              "\n",
              "    .dataframe thead th {\n",
              "        text-align: right;\n",
              "    }\n",
              "</style>\n",
              "<table border=\"1\" class=\"dataframe\">\n",
              "  <thead>\n",
              "    <tr style=\"text-align: right;\">\n",
              "      <th></th>\n",
              "      <th>geo</th>\n",
              "      <th>time</th>\n",
              "      <th>cell_phones_total</th>\n",
              "      <th>population_total</th>\n",
              "      <th>country</th>\n",
              "      <th>phone_per_person</th>\n",
              "    </tr>\n",
              "  </thead>\n",
              "  <tbody>\n",
              "    <tr>\n",
              "      <th>8127</th>\n",
              "      <td>USA</td>\n",
              "      <td>2010</td>\n",
              "      <td>285,118,000.0</td>\n",
              "      <td>308641391</td>\n",
              "      <td>United States</td>\n",
              "      <td>0.9237840688710478</td>\n",
              "    </tr>\n",
              "    <tr>\n",
              "      <th>8128</th>\n",
              "      <td>USA</td>\n",
              "      <td>2011</td>\n",
              "      <td>297,404,000.0</td>\n",
              "      <td>311051373</td>\n",
              "      <td>United States</td>\n",
              "      <td>0.9561250192584747</td>\n",
              "    </tr>\n",
              "    <tr>\n",
              "      <th>8129</th>\n",
              "      <td>USA</td>\n",
              "      <td>2012</td>\n",
              "      <td>304,838,000.0</td>\n",
              "      <td>313335423</td>\n",
              "      <td>United States</td>\n",
              "      <td>0.9728807457559626</td>\n",
              "    </tr>\n",
              "    <tr>\n",
              "      <th>8130</th>\n",
              "      <td>USA</td>\n",
              "      <td>2013</td>\n",
              "      <td>310,698,000.0</td>\n",
              "      <td>315536676</td>\n",
              "      <td>United States</td>\n",
              "      <td>0.9846652501340288</td>\n",
              "    </tr>\n",
              "    <tr>\n",
              "      <th>8131</th>\n",
              "      <td>USA</td>\n",
              "      <td>2014</td>\n",
              "      <td>355,500,000.0</td>\n",
              "      <td>317718779</td>\n",
              "      <td>United States</td>\n",
              "      <td>1.118914031833164</td>\n",
              "    </tr>\n",
              "    <tr>\n",
              "      <th>8132</th>\n",
              "      <td>USA</td>\n",
              "      <td>2015</td>\n",
              "      <td>382,307,000.0</td>\n",
              "      <td>319929162</td>\n",
              "      <td>United States</td>\n",
              "      <td>1.1949739048796058</td>\n",
              "    </tr>\n",
              "    <tr>\n",
              "      <th>8133</th>\n",
              "      <td>USA</td>\n",
              "      <td>2016</td>\n",
              "      <td>395,881,000.0</td>\n",
              "      <td>322179605</td>\n",
              "      <td>United States</td>\n",
              "      <td>1.228758722948959</td>\n",
              "    </tr>\n",
              "    <tr>\n",
              "      <th>8134</th>\n",
              "      <td>USA</td>\n",
              "      <td>2017</td>\n",
              "      <td>395,881,000.0</td>\n",
              "      <td>324459463</td>\n",
              "      <td>United States</td>\n",
              "      <td>1.2201246847283354</td>\n",
              "    </tr>\n",
              "  </tbody>\n",
              "</table>\n",
              "</div>"
            ],
            "text/plain": [
              "      geo  time  ...        country   phone_per_person\n",
              "8127  USA  2010  ...  United States 0.9237840688710478\n",
              "8128  USA  2011  ...  United States 0.9561250192584747\n",
              "8129  USA  2012  ...  United States 0.9728807457559626\n",
              "8130  USA  2013  ...  United States 0.9846652501340288\n",
              "8131  USA  2014  ...  United States  1.118914031833164\n",
              "8132  USA  2015  ...  United States 1.1949739048796058\n",
              "8133  USA  2016  ...  United States  1.228758722948959\n",
              "8134  USA  2017  ...  United States 1.2201246847283354\n",
              "\n",
              "[8 rows x 6 columns]"
            ]
          },
          "metadata": {
            "tags": []
          },
          "execution_count": 78
        }
      ]
    },
    {
      "cell_type": "markdown",
      "metadata": {
        "colab_type": "text",
        "id": "6J7iwMnTg8KZ"
      },
      "source": [
        "### Part 4. Reshape data"
      ]
    },
    {
      "cell_type": "markdown",
      "metadata": {
        "colab_type": "text",
        "id": "LP9InazRkUxG"
      },
      "source": [
        "*This part is not needed to pass the sprint challenge, only to get a 3! Only work on this after completing the other sections.*\n",
        "\n",
        "Create a pivot table:\n",
        "- Columns: Years 2007—2017\n",
        "- Rows: China, India, United States, Indonesia, Brazil (order doesn't matter)\n",
        "- Values: Cell Phones Total\n",
        "\n",
        "The table's shape should be: (5, 11)"
      ]
    },
    {
      "cell_type": "code",
      "metadata": {
        "colab_type": "code",
        "id": "JD7mXXjLj4Ue",
        "colab": {
          "base_uri": "https://localhost:8080/",
          "height": 225
        },
        "outputId": "27f254ce-5a1a-4aac-bb03-f3eb0641b6cf"
      },
      "source": [
        "decade = df[(df['time'] > 2007) & (df['time'] < 2017)]\n",
        "usa = df[df['country'] == 'United States']\n",
        "china = df[df['country'] == 'China']\n",
        "india = df[df['country'] == 'India']\n",
        "indonesia = df[df['country'] == 'Indonesia']\n",
        "brazil = df[df['country'] == 'Brazil']\n",
        "five = [usa, china, india, indonesia, brazil]\n",
        "pt = pd.pivot_table(df, index=five['country'], columns=decade['time'])\n",
        "pt.shape"
      ],
      "execution_count": 225,
      "outputs": [
        {
          "output_type": "error",
          "ename": "TypeError",
          "evalue": "ignored",
          "traceback": [
            "\u001b[0;31m---------------------------------------------------------------------------\u001b[0m",
            "\u001b[0;31mTypeError\u001b[0m                                 Traceback (most recent call last)",
            "\u001b[0;32m<ipython-input-225-59654b162829>\u001b[0m in \u001b[0;36m<module>\u001b[0;34m()\u001b[0m\n\u001b[1;32m      6\u001b[0m \u001b[0mbrazil\u001b[0m \u001b[0;34m=\u001b[0m \u001b[0mdf\u001b[0m\u001b[0;34m[\u001b[0m\u001b[0mdf\u001b[0m\u001b[0;34m[\u001b[0m\u001b[0;34m'country'\u001b[0m\u001b[0;34m]\u001b[0m \u001b[0;34m==\u001b[0m \u001b[0;34m'Brazil'\u001b[0m\u001b[0;34m]\u001b[0m\u001b[0;34m\u001b[0m\u001b[0;34m\u001b[0m\u001b[0m\n\u001b[1;32m      7\u001b[0m \u001b[0mfive\u001b[0m \u001b[0;34m=\u001b[0m \u001b[0;34m[\u001b[0m\u001b[0musa\u001b[0m\u001b[0;34m,\u001b[0m \u001b[0mchina\u001b[0m\u001b[0;34m,\u001b[0m \u001b[0mindia\u001b[0m\u001b[0;34m,\u001b[0m \u001b[0mindonesia\u001b[0m\u001b[0;34m,\u001b[0m \u001b[0mbrazil\u001b[0m\u001b[0;34m]\u001b[0m\u001b[0;34m\u001b[0m\u001b[0;34m\u001b[0m\u001b[0m\n\u001b[0;32m----> 8\u001b[0;31m \u001b[0mpt\u001b[0m \u001b[0;34m=\u001b[0m \u001b[0mpd\u001b[0m\u001b[0;34m.\u001b[0m\u001b[0mpivot_table\u001b[0m\u001b[0;34m(\u001b[0m\u001b[0mdf\u001b[0m\u001b[0;34m,\u001b[0m \u001b[0mindex\u001b[0m\u001b[0;34m=\u001b[0m\u001b[0mfive\u001b[0m\u001b[0;34m[\u001b[0m\u001b[0;34m'country'\u001b[0m\u001b[0;34m]\u001b[0m\u001b[0;34m,\u001b[0m \u001b[0mcolumns\u001b[0m\u001b[0;34m=\u001b[0m\u001b[0mdecade\u001b[0m\u001b[0;34m[\u001b[0m\u001b[0;34m'time'\u001b[0m\u001b[0;34m]\u001b[0m\u001b[0;34m)\u001b[0m\u001b[0;34m\u001b[0m\u001b[0;34m\u001b[0m\u001b[0m\n\u001b[0m\u001b[1;32m      9\u001b[0m \u001b[0mpt\u001b[0m\u001b[0;34m.\u001b[0m\u001b[0mshape\u001b[0m\u001b[0;34m\u001b[0m\u001b[0;34m\u001b[0m\u001b[0m\n",
            "\u001b[0;31mTypeError\u001b[0m: list indices must be integers or slices, not str"
          ]
        }
      ]
    },
    {
      "cell_type": "markdown",
      "metadata": {
        "colab_type": "text",
        "id": "CNKTu2DCnAo6"
      },
      "source": [
        "Sort these 5 countries, by biggest increase in cell phones from 2007 to 2017.\n",
        "\n",
        "Which country had 935,282,277 more cell phones in 2017 versus 2007?"
      ]
    },
    {
      "cell_type": "code",
      "metadata": {
        "colab_type": "code",
        "id": "O4Aecv1fmQlj",
        "colab": {}
      },
      "source": [
        ""
      ],
      "execution_count": 0,
      "outputs": []
    },
    {
      "cell_type": "markdown",
      "metadata": {
        "colab_type": "text",
        "id": "7iHkMsa3Rorh"
      },
      "source": [
        "If you have the time and curiosity, what other questions can you ask and answer with this data?"
      ]
    },
    {
      "cell_type": "markdown",
      "metadata": {
        "id": "vtcAJOAV9k3X",
        "colab_type": "text"
      },
      "source": [
        "## Data Storytelling\n",
        "\n",
        "In this part of the sprint challenge you'll work with a dataset from **FiveThirtyEight's article, [Every Guest Jon Stewart Ever Had On ‘The Daily Show’](https://fivethirtyeight.com/features/every-guest-jon-stewart-ever-had-on-the-daily-show/)**!"
      ]
    },
    {
      "cell_type": "markdown",
      "metadata": {
        "id": "UtjoIqvm9yFg",
        "colab_type": "text"
      },
      "source": [
        "### Part 0 — Run this starter code\n",
        "\n",
        "You don't need to add or change anything here. Just run this cell and it loads the data for you, into a dataframe named `df`.\n",
        "\n",
        "(You can explore the data if you want, but it's not required to pass the Sprint Challenge.)"
      ]
    },
    {
      "cell_type": "code",
      "metadata": {
        "id": "tYujbhIz9zKU",
        "colab_type": "code",
        "colab": {}
      },
      "source": [
        "%matplotlib inline\n",
        "import matplotlib.pyplot as plt\n",
        "import numpy as np\n",
        "import pandas as pd\n",
        "\n",
        "url = 'https://raw.githubusercontent.com/fivethirtyeight/data/master/daily-show-guests/daily_show_guests.csv'\n",
        "ds = pd.read_csv(url).rename(columns={'YEAR': 'Year', 'Raw_Guest_List': 'Guest'})\n",
        "\n",
        "def get_occupation(group):\n",
        "    if group in ['Acting', 'Comedy', 'Musician']:\n",
        "        return 'Acting, Comedy & Music'\n",
        "    elif group in ['Media', 'media']:\n",
        "        return 'Media'\n",
        "    elif group in ['Government', 'Politician', 'Political Aide']:\n",
        "        return 'Government and Politics'\n",
        "    else:\n",
        "        return 'Other'\n",
        "      \n",
        "ds['Occupation'] = ds['Group'].apply(get_occupation)"
      ],
      "execution_count": 0,
      "outputs": []
    },
    {
      "cell_type": "code",
      "metadata": {
        "id": "rId6uAupJxfi",
        "colab_type": "code",
        "colab": {
          "base_uri": "https://localhost:8080/",
          "height": 224
        },
        "outputId": "b490a14d-9577-4398-cf44-a7ef8cae3515"
      },
      "source": [
        "print(ds.shape)\n",
        "ds.head()"
      ],
      "execution_count": 80,
      "outputs": [
        {
          "output_type": "stream",
          "text": [
            "(2693, 6)\n"
          ],
          "name": "stdout"
        },
        {
          "output_type": "execute_result",
          "data": {
            "text/html": [
              "<div>\n",
              "<style scoped>\n",
              "    .dataframe tbody tr th:only-of-type {\n",
              "        vertical-align: middle;\n",
              "    }\n",
              "\n",
              "    .dataframe tbody tr th {\n",
              "        vertical-align: top;\n",
              "    }\n",
              "\n",
              "    .dataframe thead th {\n",
              "        text-align: right;\n",
              "    }\n",
              "</style>\n",
              "<table border=\"1\" class=\"dataframe\">\n",
              "  <thead>\n",
              "    <tr style=\"text-align: right;\">\n",
              "      <th></th>\n",
              "      <th>Year</th>\n",
              "      <th>GoogleKnowlege_Occupation</th>\n",
              "      <th>Show</th>\n",
              "      <th>Group</th>\n",
              "      <th>Guest</th>\n",
              "      <th>Occupation</th>\n",
              "    </tr>\n",
              "  </thead>\n",
              "  <tbody>\n",
              "    <tr>\n",
              "      <th>0</th>\n",
              "      <td>1999</td>\n",
              "      <td>actor</td>\n",
              "      <td>1/11/99</td>\n",
              "      <td>Acting</td>\n",
              "      <td>Michael J. Fox</td>\n",
              "      <td>Acting, Comedy &amp; Music</td>\n",
              "    </tr>\n",
              "    <tr>\n",
              "      <th>1</th>\n",
              "      <td>1999</td>\n",
              "      <td>Comedian</td>\n",
              "      <td>1/12/99</td>\n",
              "      <td>Comedy</td>\n",
              "      <td>Sandra Bernhard</td>\n",
              "      <td>Acting, Comedy &amp; Music</td>\n",
              "    </tr>\n",
              "    <tr>\n",
              "      <th>2</th>\n",
              "      <td>1999</td>\n",
              "      <td>television actress</td>\n",
              "      <td>1/13/99</td>\n",
              "      <td>Acting</td>\n",
              "      <td>Tracey Ullman</td>\n",
              "      <td>Acting, Comedy &amp; Music</td>\n",
              "    </tr>\n",
              "    <tr>\n",
              "      <th>3</th>\n",
              "      <td>1999</td>\n",
              "      <td>film actress</td>\n",
              "      <td>1/14/99</td>\n",
              "      <td>Acting</td>\n",
              "      <td>Gillian Anderson</td>\n",
              "      <td>Acting, Comedy &amp; Music</td>\n",
              "    </tr>\n",
              "    <tr>\n",
              "      <th>4</th>\n",
              "      <td>1999</td>\n",
              "      <td>actor</td>\n",
              "      <td>1/18/99</td>\n",
              "      <td>Acting</td>\n",
              "      <td>David Alan Grier</td>\n",
              "      <td>Acting, Comedy &amp; Music</td>\n",
              "    </tr>\n",
              "  </tbody>\n",
              "</table>\n",
              "</div>"
            ],
            "text/plain": [
              "   Year GoogleKnowlege_Occupation  ...             Guest              Occupation\n",
              "0  1999                     actor  ...    Michael J. Fox  Acting, Comedy & Music\n",
              "1  1999                  Comedian  ...   Sandra Bernhard  Acting, Comedy & Music\n",
              "2  1999        television actress  ...     Tracey Ullman  Acting, Comedy & Music\n",
              "3  1999              film actress  ...  Gillian Anderson  Acting, Comedy & Music\n",
              "4  1999                     actor  ...  David Alan Grier  Acting, Comedy & Music\n",
              "\n",
              "[5 rows x 6 columns]"
            ]
          },
          "metadata": {
            "tags": []
          },
          "execution_count": 80
        }
      ]
    },
    {
      "cell_type": "code",
      "metadata": {
        "id": "VDG0-DhdKBMR",
        "colab_type": "code",
        "colab": {
          "base_uri": "https://localhost:8080/",
          "height": 217
        },
        "outputId": "d0658dbd-628a-47c4-ba45-d40e704f2134"
      },
      "source": [
        "ds.info()"
      ],
      "execution_count": 83,
      "outputs": [
        {
          "output_type": "stream",
          "text": [
            "<class 'pandas.core.frame.DataFrame'>\n",
            "RangeIndex: 2693 entries, 0 to 2692\n",
            "Data columns (total 6 columns):\n",
            "Year                         2693 non-null int64\n",
            "GoogleKnowlege_Occupation    2667 non-null object\n",
            "Show                         2693 non-null object\n",
            "Group                        2662 non-null object\n",
            "Guest                        2693 non-null object\n",
            "Occupation                   2693 non-null object\n",
            "dtypes: int64(1), object(5)\n",
            "memory usage: 126.3+ KB\n"
          ],
          "name": "stdout"
        }
      ]
    },
    {
      "cell_type": "code",
      "metadata": {
        "id": "nF_wccOdK7-H",
        "colab_type": "code",
        "colab": {
          "base_uri": "https://localhost:8080/",
          "height": 435
        },
        "outputId": "b717918a-3bfd-4833-c03b-6f8a3e4e52ed"
      },
      "source": [
        "print(ds.Year.value_counts())\n",
        "ds['Occupation'].value_counts()\n"
      ],
      "execution_count": 87,
      "outputs": [
        {
          "output_type": "stream",
          "text": [
            "2000    169\n",
            "2003    166\n",
            "2013    166\n",
            "1999    166\n",
            "2010    165\n",
            "2012    164\n",
            "2008    164\n",
            "2004    164\n",
            "2009    163\n",
            "2011    163\n",
            "2014    163\n",
            "2005    162\n",
            "2006    161\n",
            "2002    159\n",
            "2001    157\n",
            "2007    141\n",
            "2015    100\n",
            "Name: Year, dtype: int64\n"
          ],
          "name": "stdout"
        },
        {
          "output_type": "execute_result",
          "data": {
            "text/plain": [
              "Acting, Comedy & Music     1203\n",
              "Media                       756\n",
              "Government and Politics     384\n",
              "Other                       350\n",
              "Name: Occupation, dtype: int64"
            ]
          },
          "metadata": {
            "tags": []
          },
          "execution_count": 87
        }
      ]
    },
    {
      "cell_type": "markdown",
      "metadata": {
        "id": "5hjnMK3j90Rp",
        "colab_type": "text"
      },
      "source": [
        "### Part 1 — What's the breakdown of guests’ occupations per year?\n",
        "\n",
        "For example, in 1999, what percentage of guests were actors, comedians, or musicians? What percentage were in the media? What percentage were in politics? What percentage were from another occupation?\n",
        "\n",
        "Then, what about in 2000? In 2001? And so on, up through 2015.\n",
        "\n",
        "So, **for each year of _The Daily Show_, calculate the percentage of guests from each occupation:**\n",
        "- Acting, Comedy & Music\n",
        "- Government and Politics\n",
        "- Media\n",
        "- Other\n",
        "\n",
        "#### Hints:\n",
        "You can make a crosstab. (See pandas documentation for examples, explanation, and parameters.)\n",
        "\n",
        "You'll know you've calculated correctly when the percentage of \"Acting, Comedy & Music\" guests is 90.36% in 1999, and 45% in 2015."
      ]
    },
    {
      "cell_type": "code",
      "metadata": {
        "id": "EbobyiHv916F",
        "colab_type": "code",
        "colab": {
          "base_uri": "https://localhost:8080/",
          "height": 614
        },
        "outputId": "72308715-dc24-4e3e-dd2a-814108957d88"
      },
      "source": [
        "##ANSWER (this should show all the information needed)\n",
        "guest_occ = pd.crosstab(ds['Year'], ds['Occupation'], normalize='index')*100\n",
        "guest_occ"
      ],
      "execution_count": 139,
      "outputs": [
        {
          "output_type": "execute_result",
          "data": {
            "text/html": [
              "<div>\n",
              "<style scoped>\n",
              "    .dataframe tbody tr th:only-of-type {\n",
              "        vertical-align: middle;\n",
              "    }\n",
              "\n",
              "    .dataframe tbody tr th {\n",
              "        vertical-align: top;\n",
              "    }\n",
              "\n",
              "    .dataframe thead th {\n",
              "        text-align: right;\n",
              "    }\n",
              "</style>\n",
              "<table border=\"1\" class=\"dataframe\">\n",
              "  <thead>\n",
              "    <tr style=\"text-align: right;\">\n",
              "      <th>Occupation</th>\n",
              "      <th>Acting, Comedy &amp; Music</th>\n",
              "      <th>Government and Politics</th>\n",
              "      <th>Media</th>\n",
              "      <th>Other</th>\n",
              "    </tr>\n",
              "    <tr>\n",
              "      <th>Year</th>\n",
              "      <th></th>\n",
              "      <th></th>\n",
              "      <th></th>\n",
              "      <th></th>\n",
              "    </tr>\n",
              "  </thead>\n",
              "  <tbody>\n",
              "    <tr>\n",
              "      <th>1999</th>\n",
              "      <td>90.36144578313254</td>\n",
              "      <td>1.2048192771084338</td>\n",
              "      <td>6.626506024096386</td>\n",
              "      <td>1.8072289156626504</td>\n",
              "    </tr>\n",
              "    <tr>\n",
              "      <th>2000</th>\n",
              "      <td>73.96449704142012</td>\n",
              "      <td>8.284023668639055</td>\n",
              "      <td>12.42603550295858</td>\n",
              "      <td>5.325443786982249</td>\n",
              "    </tr>\n",
              "    <tr>\n",
              "      <th>2001</th>\n",
              "      <td>72.61146496815286</td>\n",
              "      <td>3.821656050955414</td>\n",
              "      <td>19.745222929936308</td>\n",
              "      <td>3.821656050955414</td>\n",
              "    </tr>\n",
              "    <tr>\n",
              "      <th>2002</th>\n",
              "      <td>62.264150943396224</td>\n",
              "      <td>6.918238993710692</td>\n",
              "      <td>26.41509433962264</td>\n",
              "      <td>4.40251572327044</td>\n",
              "    </tr>\n",
              "    <tr>\n",
              "      <th>2003</th>\n",
              "      <td>56.024096385542165</td>\n",
              "      <td>10.240963855421686</td>\n",
              "      <td>24.69879518072289</td>\n",
              "      <td>9.036144578313253</td>\n",
              "    </tr>\n",
              "    <tr>\n",
              "      <th>2004</th>\n",
              "      <td>38.41463414634146</td>\n",
              "      <td>22.5609756097561</td>\n",
              "      <td>27.439024390243905</td>\n",
              "      <td>11.585365853658537</td>\n",
              "    </tr>\n",
              "    <tr>\n",
              "      <th>2005</th>\n",
              "      <td>37.03703703703704</td>\n",
              "      <td>16.049382716049383</td>\n",
              "      <td>33.33333333333333</td>\n",
              "      <td>13.580246913580247</td>\n",
              "    </tr>\n",
              "    <tr>\n",
              "      <th>2006</th>\n",
              "      <td>36.024844720496894</td>\n",
              "      <td>19.25465838509317</td>\n",
              "      <td>29.19254658385093</td>\n",
              "      <td>15.527950310559005</td>\n",
              "    </tr>\n",
              "    <tr>\n",
              "      <th>2007</th>\n",
              "      <td>25.53191489361702</td>\n",
              "      <td>17.02127659574468</td>\n",
              "      <td>33.33333333333333</td>\n",
              "      <td>24.113475177304963</td>\n",
              "    </tr>\n",
              "    <tr>\n",
              "      <th>2008</th>\n",
              "      <td>20.73170731707317</td>\n",
              "      <td>20.121951219512198</td>\n",
              "      <td>46.95121951219512</td>\n",
              "      <td>12.195121951219512</td>\n",
              "    </tr>\n",
              "    <tr>\n",
              "      <th>2009</th>\n",
              "      <td>20.858895705521473</td>\n",
              "      <td>20.858895705521473</td>\n",
              "      <td>36.19631901840491</td>\n",
              "      <td>22.085889570552148</td>\n",
              "    </tr>\n",
              "    <tr>\n",
              "      <th>2010</th>\n",
              "      <td>35.15151515151515</td>\n",
              "      <td>18.181818181818183</td>\n",
              "      <td>30.303030303030305</td>\n",
              "      <td>16.363636363636363</td>\n",
              "    </tr>\n",
              "    <tr>\n",
              "      <th>2011</th>\n",
              "      <td>33.74233128834356</td>\n",
              "      <td>16.56441717791411</td>\n",
              "      <td>31.28834355828221</td>\n",
              "      <td>18.404907975460123</td>\n",
              "    </tr>\n",
              "    <tr>\n",
              "      <th>2012</th>\n",
              "      <td>26.82926829268293</td>\n",
              "      <td>20.121951219512198</td>\n",
              "      <td>31.70731707317073</td>\n",
              "      <td>21.341463414634145</td>\n",
              "    </tr>\n",
              "    <tr>\n",
              "      <th>2013</th>\n",
              "      <td>42.77108433734939</td>\n",
              "      <td>12.650602409638553</td>\n",
              "      <td>30.72289156626506</td>\n",
              "      <td>13.855421686746988</td>\n",
              "    </tr>\n",
              "    <tr>\n",
              "      <th>2014</th>\n",
              "      <td>39.263803680981596</td>\n",
              "      <td>12.883435582822086</td>\n",
              "      <td>32.515337423312886</td>\n",
              "      <td>15.337423312883436</td>\n",
              "    </tr>\n",
              "    <tr>\n",
              "      <th>2015</th>\n",
              "      <td>45.0</td>\n",
              "      <td>17.0</td>\n",
              "      <td>24.0</td>\n",
              "      <td>14.000000000000002</td>\n",
              "    </tr>\n",
              "  </tbody>\n",
              "</table>\n",
              "</div>"
            ],
            "text/plain": [
              "Occupation  Acting, Comedy & Music  ...              Other\n",
              "Year                                ...                   \n",
              "1999             90.36144578313254  ... 1.8072289156626504\n",
              "2000             73.96449704142012  ...  5.325443786982249\n",
              "2001             72.61146496815286  ...  3.821656050955414\n",
              "2002            62.264150943396224  ...   4.40251572327044\n",
              "2003            56.024096385542165  ...  9.036144578313253\n",
              "2004             38.41463414634146  ... 11.585365853658537\n",
              "2005             37.03703703703704  ... 13.580246913580247\n",
              "2006            36.024844720496894  ... 15.527950310559005\n",
              "2007             25.53191489361702  ... 24.113475177304963\n",
              "2008             20.73170731707317  ... 12.195121951219512\n",
              "2009            20.858895705521473  ... 22.085889570552148\n",
              "2010             35.15151515151515  ... 16.363636363636363\n",
              "2011             33.74233128834356  ... 18.404907975460123\n",
              "2012             26.82926829268293  ... 21.341463414634145\n",
              "2013             42.77108433734939  ... 13.855421686746988\n",
              "2014            39.263803680981596  ... 15.337423312883436\n",
              "2015                          45.0  ... 14.000000000000002\n",
              "\n",
              "[17 rows x 4 columns]"
            ]
          },
          "metadata": {
            "tags": []
          },
          "execution_count": 139
        }
      ]
    },
    {
      "cell_type": "markdown",
      "metadata": {
        "id": "Kiq56dZb92LY",
        "colab_type": "text"
      },
      "source": [
        "### Part 2 — Recreate this explanatory visualization:"
      ]
    },
    {
      "cell_type": "code",
      "metadata": {
        "id": "HKLDMWwP98vz",
        "colab_type": "code",
        "outputId": "0397fcdf-80e5-4072-88f4-af2f14fcf0f2",
        "colab": {
          "base_uri": "https://localhost:8080/",
          "height": 406
        }
      },
      "source": [
        "from IPython.display import display, Image\n",
        "png = 'https://fivethirtyeight.com/wp-content/uploads/2015/08/hickey-datalab-dailyshow.png'\n",
        "example = Image(png, width=500)\n",
        "display(example)"
      ],
      "execution_count": 0,
      "outputs": [
        {
          "output_type": "display_data",
          "data": {
            "image/png": "[encoded data removed]",
            "text/plain": [
              "<IPython.core.display.Image object>"
            ]
          },
          "metadata": {
            "tags": [],
            "image/png": {
              "width": 500
            }
          }
        }
      ]
    },
    {
      "cell_type": "code",
      "metadata": {
        "id": "lXcwVvjSNzkB",
        "colab_type": "code",
        "colab": {}
      },
      "source": [
        "\n",
        "guest_occ = guest_occ.drop(columns='Other')"
      ],
      "execution_count": 0,
      "outputs": []
    },
    {
      "cell_type": "code",
      "metadata": {
        "id": "1VlR1MGaaxS3",
        "colab_type": "code",
        "colab": {}
      },
      "source": [
        "from matplotlib.ticker import PercentFormatter\n",
        "import altair as alt\n",
        "import seaborn as sns"
      ],
      "execution_count": 0,
      "outputs": []
    },
    {
      "cell_type": "markdown",
      "metadata": {
        "id": "TK5fDIag9-F6",
        "colab_type": "text"
      },
      "source": [
        "**Hints:**\n",
        "- You can choose any Python visualization library you want. I've verified the plot can be reproduced with matplotlib, pandas plot, or seaborn. I assume other libraries like altair or plotly would work too.\n",
        "- If you choose to use seaborn, you may want to upgrade the version to 0.9.0.\n",
        "\n",
        "**Expectations:** Your plot should include:\n",
        "- 3 lines visualizing \"occupation of guests, by year.\" The shapes of the lines should look roughly identical to 538's example. Each line should be a different color. (But you don't need to use the _same_ colors as 538.)\n",
        "- Legend or labels for the lines. (But you don't need each label positioned next to its line or colored like 538.)\n",
        "- Title in the upper left: _\"Who Got To Be On 'The Daily Show'?\"_ with more visual emphasis than the subtitle. (Bolder and/or larger font.)\n",
        "- Subtitle underneath the title: _\"Occupation of guests, by year\"_\n",
        "\n",
        "**Optional Bonus Challenge:**\n",
        "- Give your plot polished aesthetics, with improved resemblance to the 538 example.\n",
        "- Any visual element not specifically mentioned in the expectations is an optional bonus."
      ]
    },
    {
      "cell_type": "code",
      "metadata": {
        "id": "CaB8MMV099Kh",
        "colab_type": "code",
        "colab": {
          "base_uri": "https://localhost:8080/",
          "height": 442
        },
        "outputId": "969e5b77-592a-4e4c-92df-f42764c5769c"
      },
      "source": [
        "\n",
        "\n",
        "#Using 538's style to make it as similar as possible\n",
        "plt.style.use('fivethirtyeight')\n",
        "ax.ylabel=''\n",
        "ax = guest_occ.plot(figsize = (8, 6), color=['#008fd6', '#ff2600', '#810f7c'])\n",
        "plt.suptitle(\"Who Got To Be On 'The Daily Show'?\", x=0.35, fontsize='x-large', fontweight='bold')\n",
        "plt.title(\"Occupation of guests, by year\", x=0.11, fontsize='medium')\n",
        "\n",
        "#Putting Text on Lines\n",
        "plt.text(2000, 80,'Acting, Comedy, & Music', color='#008fd6', fontweight='bold')\n",
        "plt.text(2009, 7,'Government and Politics', color='#ff2600', fontweight='bold')\n",
        "plt.text(2008, 50,'Media', color='#810f7c', fontweight='bold')\n",
        "\n",
        "#Adds the percentage sign%\n",
        "ax.yaxis.set_major_formatter(PercentFormatter())\n",
        "\n",
        "#Removes Legend\n",
        "ax.get_legend().remove()\n",
        "\n",
        "\n",
        "#Removes X-axis label of \"year\"\n",
        "x_axis = ax.axes.get_xaxis()\n",
        "x_label = x_axis.get_label()\n",
        "x_label.set_visible(False)\n",
        "\n",
        "plt.show()\n"
      ],
      "execution_count": 238,
      "outputs": [
        {
          "output_type": "display_data",
          "data": {
            "image/png": "[encoded data removed]",
            "text/plain": [
              "<Figure size 576x432 with 1 Axes>"
            ]
          },
          "metadata": {
            "tags": []
          }
        }
      ]
    }
  ]
}